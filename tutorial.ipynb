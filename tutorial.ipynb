{
 "cells": [
  {
   "cell_type": "code",
   "execution_count": null,
   "metadata": {},
   "outputs": [],
   "source": [
    "!pip install requests"
   ]
  },
  {
   "cell_type": "code",
   "execution_count": 6,
   "metadata": {},
   "outputs": [],
   "source": [
    "import requests\n",
    "from bs4 import BeautifulSoup\n",
    "import pandas as pd"
   ]
  },
  {
   "cell_type": "code",
   "execution_count": 2,
   "metadata": {},
   "outputs": [],
   "source": [
    "response = requests.get(\"https://aptans.cloud/blog\")\n",
    "content = response.content"
   ]
  },
  {
   "cell_type": "code",
   "execution_count": 3,
   "metadata": {},
   "outputs": [],
   "source": [
    "site = BeautifulSoup(content, \"html.parser\")"
   ]
  },
  {
   "cell_type": "code",
   "execution_count": 5,
   "metadata": {},
   "outputs": [
    {
     "name": "stdout",
     "output_type": "stream",
     "text": [
      "Por que contratar um servidor dedicado?\n"
     ]
    }
   ],
   "source": [
    "#encontra apenas a primeira div com a classe\n",
    "\n",
    "#Blog's post's title\n",
    "post = site.find(\"div\", attrs={\"class\": \"elementor-post__card\"})\n",
    "title_bloc = post.find(\"h3\", attrs={\"class\": \"elementor-post__title\"})\n",
    "title = title_bloc.find(\"a\")\n",
    "print(title.text.strip())"
   ]
  },
  {
   "cell_type": "code",
   "execution_count": 4,
   "metadata": {},
   "outputs": [],
   "source": [
    "#procurar todos os posts\n",
    "all_posts = []\n",
    "posts = site.find_all(\"div\", attrs={\"class\": \"elementor-post__card\"})\n",
    "for post in posts:\n",
    "    title_bloc = post.find(\"h3\", attrs={\"class\": \"elementor-post__title\"})\n",
    "    title = title_bloc.find(\"a\")\n",
    "    # print(title.text.strip())\n",
    "    # print(title[\"href\"])\n",
    "    # print(\"\\n\")\n",
    "    all_posts.append([title.text.strip(), title[\"href\"]])"
   ]
  },
  {
   "cell_type": "code",
   "execution_count": 7,
   "metadata": {},
   "outputs": [
    {
     "data": {
      "text/html": [
       "<div>\n",
       "<style scoped>\n",
       "    .dataframe tbody tr th:only-of-type {\n",
       "        vertical-align: middle;\n",
       "    }\n",
       "\n",
       "    .dataframe tbody tr th {\n",
       "        vertical-align: top;\n",
       "    }\n",
       "\n",
       "    .dataframe thead th {\n",
       "        text-align: right;\n",
       "    }\n",
       "</style>\n",
       "<table border=\"1\" class=\"dataframe\">\n",
       "  <thead>\n",
       "    <tr style=\"text-align: right;\">\n",
       "      <th></th>\n",
       "      <th>Title</th>\n",
       "      <th>Link</th>\n",
       "    </tr>\n",
       "  </thead>\n",
       "  <tbody>\n",
       "    <tr>\n",
       "      <th>0</th>\n",
       "      <td>Por que contratar um servidor dedicado?</td>\n",
       "      <td>https://aptans.cloud/por-que-utilizar-um-servi...</td>\n",
       "    </tr>\n",
       "    <tr>\n",
       "      <th>1</th>\n",
       "      <td>Comandos mais utilizados no Docker</td>\n",
       "      <td>https://aptans.cloud/comandos-mais-utilizados-...</td>\n",
       "    </tr>\n",
       "    <tr>\n",
       "      <th>2</th>\n",
       "      <td>Servidor DNS: O que é? Como funciona?</td>\n",
       "      <td>https://aptans.cloud/o-que-servidor-dns</td>\n",
       "    </tr>\n",
       "    <tr>\n",
       "      <th>3</th>\n",
       "      <td>cPanel: O que é? Para que serve?</td>\n",
       "      <td>https://aptans.cloud/cpanel-o-que-e-e-porque-usar</td>\n",
       "    </tr>\n",
       "    <tr>\n",
       "      <th>4</th>\n",
       "      <td>Apt, Dpkg ou Aptitude? Qual Utilizar?</td>\n",
       "      <td>https://aptans.cloud/apt-dpkg-aptitude-qual-ut...</td>\n",
       "    </tr>\n",
       "    <tr>\n",
       "      <th>5</th>\n",
       "      <td>Zabbix: Aprenda a Instalar e Utilizar</td>\n",
       "      <td>https://aptans.cloud/zabbix-como-instalar-e-ut...</td>\n",
       "    </tr>\n",
       "    <tr>\n",
       "      <th>6</th>\n",
       "      <td>Google Analytics no WordPress: Como Instalar</td>\n",
       "      <td>https://aptans.cloud/google-analytics-no-wordp...</td>\n",
       "    </tr>\n",
       "    <tr>\n",
       "      <th>7</th>\n",
       "      <td>Pacotes e Repositórios – Linux</td>\n",
       "      <td>https://aptans.cloud/pacotes-e-repositorios-linux</td>\n",
       "    </tr>\n",
       "    <tr>\n",
       "      <th>8</th>\n",
       "      <td>VHOST: Configurando vários sites no mesmo serv...</td>\n",
       "      <td>https://aptans.cloud/vhost-configurando-varios...</td>\n",
       "    </tr>\n",
       "    <tr>\n",
       "      <th>9</th>\n",
       "      <td>Como deixar seu site seguro?</td>\n",
       "      <td>https://aptans.cloud/como-deixar-seu-site-seguro</td>\n",
       "    </tr>\n",
       "  </tbody>\n",
       "</table>\n",
       "</div>"
      ],
      "text/plain": [
       "                                               Title  \\\n",
       "0            Por que contratar um servidor dedicado?   \n",
       "1                 Comandos mais utilizados no Docker   \n",
       "2              Servidor DNS: O que é? Como funciona?   \n",
       "3                   cPanel: O que é? Para que serve?   \n",
       "4              Apt, Dpkg ou Aptitude? Qual Utilizar?   \n",
       "5              Zabbix: Aprenda a Instalar e Utilizar   \n",
       "6       Google Analytics no WordPress: Como Instalar   \n",
       "7                     Pacotes e Repositórios – Linux   \n",
       "8  VHOST: Configurando vários sites no mesmo serv...   \n",
       "9                       Como deixar seu site seguro?   \n",
       "\n",
       "                                                Link  \n",
       "0  https://aptans.cloud/por-que-utilizar-um-servi...  \n",
       "1  https://aptans.cloud/comandos-mais-utilizados-...  \n",
       "2            https://aptans.cloud/o-que-servidor-dns  \n",
       "3  https://aptans.cloud/cpanel-o-que-e-e-porque-usar  \n",
       "4  https://aptans.cloud/apt-dpkg-aptitude-qual-ut...  \n",
       "5  https://aptans.cloud/zabbix-como-instalar-e-ut...  \n",
       "6  https://aptans.cloud/google-analytics-no-wordp...  \n",
       "7  https://aptans.cloud/pacotes-e-repositorios-linux  \n",
       "8  https://aptans.cloud/vhost-configurando-varios...  \n",
       "9   https://aptans.cloud/como-deixar-seu-site-seguro  "
      ]
     },
     "execution_count": 7,
     "metadata": {},
     "output_type": "execute_result"
    }
   ],
   "source": [
    "df_posts = pd.DataFrame(all_posts, columns=[\"Title\", \"Link\"])\n",
    "df_posts.head(50)"
   ]
  }
 ],
 "metadata": {
  "interpreter": {
   "hash": "3e69d4dbeb848eec7f711ca143dd04c43d8b6339e8c700795e6e7cb143719b25"
  },
  "kernelspec": {
   "display_name": "Python 3.9.7 64-bit ('base': conda)",
   "language": "python",
   "name": "python3"
  },
  "language_info": {
   "codemirror_mode": {
    "name": "ipython",
    "version": 3
   },
   "file_extension": ".py",
   "mimetype": "text/x-python",
   "name": "python",
   "nbconvert_exporter": "python",
   "pygments_lexer": "ipython3",
   "version": "3.9.7"
  },
  "orig_nbformat": 4
 },
 "nbformat": 4,
 "nbformat_minor": 2
}
